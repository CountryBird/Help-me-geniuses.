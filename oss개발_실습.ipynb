{
  "nbformat": 4,
  "nbformat_minor": 0,
  "metadata": {
    "colab": {
      "name": "oss개발 실습",
      "provenance": [],
      "authorship_tag": "ABX9TyNAoJZmOr6u/E6B8a6g2sKt",
      "include_colab_link": true
    },
    "kernelspec": {
      "name": "python3",
      "display_name": "Python 3"
    },
    "language_info": {
      "name": "python"
    }
  },
  "cells": [
    {
      "cell_type": "markdown",
      "metadata": {
        "id": "view-in-github",
        "colab_type": "text"
      },
      "source": [
        "<a href=\"https://colab.research.google.com/github/CountryBird/Help-me-geniuses./blob/main/oss%EA%B0%9C%EB%B0%9C_%EC%8B%A4%EC%8A%B5.ipynb\" target=\"_parent\"><img src=\"https://colab.research.google.com/assets/colab-badge.svg\" alt=\"Open In Colab\"/></a>"
      ]
    },
    {
      "cell_type": "code",
      "execution_count": null,
      "metadata": {
        "id": "DeLkQlAYNLCp"
      },
      "outputs": [],
      "source": [
        "import pandas as pd\n",
        "import numpy as np\n",
        "import matplotlib.pyplot as plt\n",
        "import seaborn as sns"
      ]
    },
    {
      "cell_type": "code",
      "source": [
        "train = pd.read_csv('/content/sample_data/california_housing_test.csv')\n",
        "test = pd.read_csv('/content/sample_data/california_housing_train.csv')\n",
        "train.head"
      ],
      "metadata": {
        "id": "zkg26UEFNQ1M"
      },
      "execution_count": null,
      "outputs": []
    },
    {
      "cell_type": "code",
      "source": [
        "test.head()"
      ],
      "metadata": {
        "id": "w_l-w_1oNzQO"
      },
      "execution_count": null,
      "outputs": []
    },
    {
      "cell_type": "code",
      "source": [
        "train.describe()"
      ],
      "metadata": {
        "id": "uG2cfkCROO8u"
      },
      "execution_count": null,
      "outputs": []
    },
    {
      "cell_type": "code",
      "source": [
        "train.hist(figsize=(15,13), grid=False ,bins=50 )\n",
        "plt.show()"
      ],
      "metadata": {
        "id": "UHPR_lGkOTtg"
      },
      "execution_count": null,
      "outputs": []
    },
    {
      "cell_type": "code",
      "source": [
        "correlation=train.corr()"
      ],
      "metadata": {
        "id": "FuVjpRatOxen"
      },
      "execution_count": null,
      "outputs": []
    },
    {
      "cell_type": "code",
      "source": [
        "plt.figure(figsize=(10,10))\n",
        "sns.heatmap(correlation,annot=True)\n",
        "plt.show()"
      ],
      "metadata": {
        "id": "fdqBnRLeO38u"
      },
      "execution_count": null,
      "outputs": []
    }
  ]
}